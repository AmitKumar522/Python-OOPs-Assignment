{
  "nbformat": 4,
  "nbformat_minor": 0,
  "metadata": {
    "colab": {
      "provenance": []
    },
    "kernelspec": {
      "name": "python3",
      "display_name": "Python 3"
    },
    "language_info": {
      "name": "python"
    }
  },
  "cells": [
    {
      "cell_type": "markdown",
      "source": [
        "---\n",
        "**Python OOPs Theory:**\n",
        "---"
      ],
      "metadata": {
        "id": "mMIzeO_WxEfN"
      }
    },
    {
      "cell_type": "markdown",
      "source": [
        "1.What is Object-Oriented Programming (OOP)?\n",
        "\n",
        "A:Object-Oriented Programming (OOP) is a way of writing programs by  using objects.An object is like a mini-program that has its own data (variables) and functions (methods).\n",
        "\n",
        "---\n",
        "\n",
        "2.What is a Class in OOP?\n",
        "\n",
        "A: A class is like a blueprint or template for creating objects. It  defines the structure and behavior of objects.In simple terms, if an object is a \"house\", then the class is the \"design plan\" used to build it.\n",
        "\n",
        "---\n",
        "\n",
        "3.What is an object in OOP ?\n",
        "\n",
        "A: In Object-Oriented Programming (OOP), an object is an instance of a class. It represents a real-world entity or a concept that has both attributes (data) and methods (functions) that operate on that data.\n",
        "\n",
        "-Attributes are the data or properties that describe the object. For example, in a Car class, attributes could be things like color, model, and year.\n",
        "\n",
        "-Methods are functions that define behaviors or actions for the object. For example, in a Car class, methods could include start(), stop(), or accelerate().\n",
        "\n",
        "---\n",
        "\n",
        "4.What is the difference between abstraction and encapsulation?\n",
        "\n",
        "A :Abstraction and encapsulation are two fundamental concepts in Object-Oriented Programming (OOP), but they are different in their focus and purpose. Here's a breakdown of each:\n",
        "\n",
        "Abstraction\n",
        "--\n",
        "\n",
        "-Abstraction is the concept of hiding the complexity of a system and showing only the essential features to the user. It allows you to focus on what an object does rather than how it does it.\n",
        "\n",
        "-It simplifies complex systems by exposing only necessary details and hiding unnecessary implementation details.\n",
        "\n",
        "-Abstraction is typically achieved through abstract classes and interfaces. These provide a high-level view of the functionality without exposing the underlying complexities.\n",
        "\n",
        "\n",
        "Encapsulation\n",
        "--\n",
        "-Encapsulation is the concept of bundling the data (attributes) and the methods (functions) that operate on the data into a single unit, called a class. It also involves restricting direct access to some of the object's components by making them private and providing access through public methods (getters and setters).\n",
        "\n",
        "-It helps protect an object's state by preventing external code from directly accessing or modifying its internal data, ensuring controlled access.\n",
        "\n",
        "-Encapsulation is implemented by using access modifiers, such as private, protected, and public, and providing methods to access or update the private data.\n",
        "\n",
        "---\n",
        "5.What are dunder methods in Python?\n",
        "\n",
        "A: Dunder methods (short for double underscore methods) are special methods that have double underscores before and after their names. These methods are also known as magic methods or special methods. They enable you to define how objects of a class behave in specific situations, such as arithmetic operations, string representation, and more.\n",
        "\n",
        "\n",
        "---\n",
        "\n",
        "6.Explain the concept of inheritance in OOP ?\n",
        "\n",
        "A: Inheritance is one of the core principles of Object-Oriented Programming (OOP), and it allows a class (called the child or subclass) to inherit properties and behaviors (methods) from another class (called the parent or superclass).\n",
        "\n",
        "\n",
        "-Parent Class (Superclass): This is the class whose properties and methods are inherited by other classes. It contains common features and behaviors that can be shared.\n",
        "\n",
        "\n",
        "-Child Class (Subclass): This is the class that inherits from the parent class. The child class can access and override the properties and methods of the parent class, and it can also have additional properties and methods that are specific to the child class.\n",
        "\n",
        "---\n",
        "\n",
        "7.What is polymorphism in OOP?\n",
        "\n",
        "A: Polymorphism is one of the key principles of Object-Oriented Programming (OOP), and it refers to the ability of different objects to respond to the same method or message in different ways. In simpler terms, polymorphism allows you to use a single interface to represent different underlying forms (data types or objects).\n",
        "\n",
        "---\n",
        "\n",
        "8.How is encapsulation achieved in Python?\n",
        "\n",
        "A.Encapsulation in Python is achieved by controlling the access to the internal state of an object (its attributes and methods). You can use public, protected, and private attributes and methods, along with getter and setter methods, to encapsulate data. The use of private attributes (with double underscores) along with name mangling ensures that these attributes are less accessible from outside the class, promoting better data security and integrity.\n",
        "\n",
        "---\n",
        "\n",
        "9.What is a constructor in Python?\n",
        "\n",
        "A.In Python, the constructor (__init__ method) is a special method used to initialize the attributes of an object when it is created. It allows you to define the initial state of the object and is automatically called when an object is instantiated.\n",
        "\n",
        "---\n",
        "\n",
        "10.What are class and static methods in Python?\n",
        "\n",
        "A. Class Method:\n",
        "--\n",
        " Binds to the class and takes cls as the first argument, allowing access to class attributes and methods. It's often used for factory methods or operations that affect the class state.\n",
        "\n",
        " Static Method:\n",
        " --\n",
        " Does not bind to the class or instance. It is a regular method inside the class that can be called without creating an instance. It is typically used for utility functions that don't require access to class or instance attributes.\n",
        "\n",
        " ---\n",
        "\n",
        "11.What is method overloading in Python?\n",
        "\n",
        "A.Method overloading in Python refers to defining a method in such a way that it can handle different numbers or types of arguments. However, unlike some other languages (like Java or C++) that allow multiple methods with the same name but different signatures, Python does not support traditional method overloading directly.\n",
        "\n",
        "---\n",
        "\n",
        "12.What is method overriding in OOP\n",
        "\n",
        "A.Method overriding occurs when a subclass has a method with the same name, same parameters, and same return type as a method in its superclass, but with a different (custom) implementation.\n",
        "\n",
        "---\n",
        "\n",
        "13.What is a property decorator in Python?\n",
        "\n",
        "A.The @property decorator in Python is used to define a method as a \"read-only\" attribute, or more generally, to customize access to class attributes in a clean, Pythonic way.\n",
        "\n",
        "---\n",
        "\n",
        "14.Why is polymorphism important in OOP?\n",
        "\n",
        "A.Polymorphism is a fundamental concept in Object-Oriented Programming (OOP), and it's important because it allows objects of different classes to be treated as objects of a common superclass. This makes code more flexible, reusable, and easier to maintain.\n",
        "\n",
        "---\n",
        "\n",
        "15. What is an abstract class in Python?\n",
        "\n",
        "A.An abstract class in Python is a blueprint for other classes. It can define abstract methods (methods without implementation) that must be implemented by any subclass. Abstract classes help in setting a standard structure for subclasses and are part of abstraction in OOP.\n",
        "\n",
        "---\n",
        "\n",
        "16. What are the advantages of OOP?\n",
        "\n",
        "A.Object-Oriented Programming (OOP) offers several advantages that make it a popular programming approach:\n",
        "\n",
        "1. **Modularity**: Code is divided into classes and objects, making it easier to manage and understand.\n",
        "2. **Reusability**: Existing code can be reused through inheritance, reducing duplication.\n",
        "3. **Encapsulation**: Data is protected and accessed only through methods, improving security and control.\n",
        "4. **Inheritance**: A new class can inherit properties and methods from an existing class, promoting code reuse.\n",
        "5. **Polymorphism**: The same function or method can behave differently on different objects, increasing flexibility.\n",
        "6. **Maintainability**: OOP makes it easier to update and maintain code over time.\n",
        "7. **Real-world modeling**: OOP allows developers to represent real-world entities, making program design more intuitive.\n",
        "\n",
        "---\n",
        "\n",
        "17.What is the difference between a class variable and an instance variable?\n",
        "\n",
        "A.Definition: Difference Between Class Variable and Instance Variable\n",
        "\n",
        "- **Class Variable**: A class variable is a variable that is **shared among all instances** of a class. It is defined **outside any method** and inside the class. All objects of the class share the same value of the class variable unless it is overridden.\n",
        "\n",
        "- **Instance Variable**: An instance variable is a variable that is **unique to each object (instance)** of the class. It is usually defined **inside the `__init__()` method** using `self`. Each object can have different values for its instance variables.\n",
        "\n",
        "---\n",
        "\n",
        "18.What is multiple inheritance in Python ?\n",
        "\n",
        "A. Multiple inheritance is a feature in Python where a class can inherit from more than one parent class. This allows the child class to access the properties and methods of all its parent classes.\n",
        "\n",
        "---\n",
        "\n",
        "19.Explain the purpose of ‘’__str__’ and ‘__repr__’ ‘ methods in Python.\n",
        "\n",
        "A.The __str__ and __repr__ methods in Python serve different purposes when working with object representations. They are both special methods (also called dunder methods or magic methods) that control how objects are represented as strings.\n",
        "\n",
        "-The __str__ method is used to define a \"nice\" or readable string\n",
        " representation of an object. It is mainly used for displaying objects to end-users.\n",
        "\n",
        "-When you use print() or str() on an object, Python will call __str__ to\n",
        " get the string representation.\n",
        "\n",
        "-If __str__ is not defined, Python will use __repr__ as a fallback.\n",
        "\n",
        "\n",
        "_.__repr__ (for developer-friendly representation):\n",
        "\n",
        "-The __repr__ method is used to define a formal string representation of an object, typically for debugging or logging.\n",
        "\n",
        "-The goal of __repr__ is to provide an unambiguous, detailed string that can ideally be used to recreate the object.\n",
        "\n",
        "-If __str__ is not defined, Python will use __repr__ when you call str() or print(). However, __repr__ is often meant to be more precise and complete.\n",
        "\n",
        "\n",
        "---\n",
        "\n",
        "20.What is the significance of the ‘super()’ function in Python?\n",
        "\n",
        "A.The super() function in Python is used to call methods from a parent or superclass. It is commonly used in the context of inheritance, particularly when a method in a subclass needs to call the method of its parent class.\n",
        "\n",
        "---\n",
        "\n",
        "21.What is the significance of the __del__ method in Python?\n",
        "\n",
        "A.The __del__ method in Python is a special method that is called when an object is about to be destroyed. It allows you to define cleanup behavior for objects before they are removed from memory.\n",
        "\n",
        "---\n",
        "\n",
        "22.What is the difference between @staticmethod and @classmethod in Python?\n",
        "\n",
        "A.\n",
        "- **`@staticmethod`**: A static method is a method that does not take `self` or `cls` as its first argument. It behaves like a regular function but belongs to the class's namespace and cannot modify or access class or instance attributes.\n",
        "\n",
        "- **`@classmethod`**: A class method is a method that takes `cls` (the class itself) as its first argument. It can access and modify class-level attributes but cannot access instance-specific attributes.\n",
        "\n",
        "---\n",
        "\n",
        "23.How does polymorphism work in Python with inheritance?\n",
        "\n",
        "A.**Polymorphism** in Python with inheritance allows **objects of different classes** to be treated as objects of a common superclass. It enables the **same method or function** to behave differently depending on the object’s class, even if the method is called in the same way.\n",
        "\n",
        "---\n",
        "24.What is method chaining in Python OOP?\n",
        "\n",
        "A.**Method chaining** in Python OOP refers to the practice of calling multiple methods on the same object in a single line of code. Each method returns the object itself (typically using self), allowing the next method to be called immediately after the previous one.\n",
        "\n",
        "---\n",
        "\n",
        "25.What is the purpose of the __call__ method in Python?\n",
        "\n",
        "A.The **`__call__`** method in Python allows an object to be **called as a function**. It is invoked when an instance of a class is called using parentheses, and it enables instances of the class to exhibit **function-like behavior**.\n",
        "\n",
        "\n",
        "\n",
        "---\n",
        "\n",
        "                       **PRACTICAL ANSWERS**\n",
        "\n",
        "---\n",
        "\n",
        "\n",
        " 1.Create a parent class Animal with a method speak() that prints a generic message. Create a child class Dog\n",
        "that overrides the speak() method to print \"Bark!\"\n",
        "\n",
        "\n",
        "\n",
        "\n",
        "\n",
        "\n",
        "\n",
        "\n",
        "\n",
        "\n",
        "\n",
        "\n",
        "\n",
        "\n",
        "\n",
        "  \n",
        "\n",
        "\n",
        "\n",
        "\n",
        "\n",
        "\n",
        "\n"
      ],
      "metadata": {
        "id": "M1EJec0Gxazn"
      }
    },
    {
      "cell_type": "code",
      "source": [
        "# Parent class\n",
        "class Animal:\n",
        "    def speak(self):\n",
        "        print(\"Generic animal sound\")\n",
        "\n",
        "# Child class\n",
        "class Dog(Animal):\n",
        "    def speak(self):\n",
        "        print(\"Bark!\")\n",
        "\n",
        "# Create instances of both classes\n",
        "animal = Animal()\n",
        "dog = Dog()\n",
        "\n",
        "# Call the speak method on both instances\n",
        "animal.speak()  # Output: Generic animal sound\n",
        "dog.speak()     # Output: Bark!\n"
      ],
      "metadata": {
        "colab": {
          "base_uri": "https://localhost:8080/"
        },
        "id": "MjJFwbszFw5D",
        "outputId": "d1b58294-219a-46fe-cac2-debc29fc9f08"
      },
      "execution_count": 2,
      "outputs": [
        {
          "output_type": "stream",
          "name": "stdout",
          "text": [
            "Generic animal sound\n",
            "Bark!\n"
          ]
        }
      ]
    },
    {
      "cell_type": "markdown",
      "source": [
        " 2.Write a program to create an abstract class Shape with a method area(). Derive classes Circle and Rectangle\n",
        "from it and implement the area() method in both."
      ],
      "metadata": {
        "id": "drWjMYfZGGe2"
      }
    },
    {
      "cell_type": "code",
      "source": [
        "from abc import ABC, abstractmethod\n",
        "import math\n",
        "\n",
        "class Shape(ABC):\n",
        "    @abstractmethod\n",
        "    def area(self):\n",
        "        pass\n",
        "\n",
        "class Circle(Shape):\n",
        "    def __init__(self, radius):\n",
        "        self.radius = radius\n",
        "\n",
        "    def area(self):\n",
        "        return math.pi * self.radius ** 2\n",
        "\n",
        "class Rectangle(Shape):\n",
        "    def __init__(self, width, height):\n",
        "        self.width = width\n",
        "        self.height = height\n",
        "\n",
        "    def area(self):\n",
        "        return self.width * self.height\n",
        "\n",
        "circle = Circle(5)\n",
        "rectangle = Rectangle(4, 6)\n",
        "\n",
        "print(f\"Circle area: {circle.area()}\")\n",
        "print(f\"Rectangle area: {rectangle.area()}\")"
      ],
      "metadata": {
        "colab": {
          "base_uri": "https://localhost:8080/"
        },
        "id": "8FefXK2KGPEf",
        "outputId": "f6de87c2-3fca-45fe-ac8e-cf773cd9c6cf"
      },
      "execution_count": 4,
      "outputs": [
        {
          "output_type": "stream",
          "name": "stdout",
          "text": [
            "Circle area: 78.53981633974483\n",
            "Rectangle area: 24\n"
          ]
        }
      ]
    },
    {
      "cell_type": "markdown",
      "source": [
        "Explanation:\n",
        "\n",
        "-Abstract class Shape: This class is defined with the ABC (Abstract Base Class) module and contains the abstract method area(). The @abstractmethod decorator ensures that any subclass must implement the area() method.\n",
        "\n",
        "-Circle and Rectangle classes: These classes inherit from Shape and implement the area() method specific to each shape.\n",
        "\n",
        "-In Circle, the area is calculated using the formula\n",
        "𝜋\n",
        "𝑟\n",
        "2\n",
        "πr\n",
        "2\n",
        " .\n",
        "\n",
        "-In Rectangle, the area is calculated using the formula\n",
        "width\n",
        "×\n",
        "height\n",
        "width×height."
      ],
      "metadata": {
        "id": "Hkbt5SIOGQs3"
      }
    },
    {
      "cell_type": "markdown",
      "source": [
        "3.Implement a multi-level inheritance scenario where a class Vehicle has an attribute type. Derive a class Car\n",
        "and further derive a class ElectricCar that adds a battery attribute"
      ],
      "metadata": {
        "id": "1ySZBnacGcq0"
      }
    },
    {
      "cell_type": "code",
      "source": [
        "# Base class\n",
        "class Vehicle:\n",
        "    def __init__(self, vehicle_type):\n",
        "        self.vehicle_type = vehicle_type\n",
        "\n",
        "    def display_type(self):\n",
        "        print(f\"Vehicle Type: {self.vehicle_type}\")\n",
        "\n",
        "# Derived class Car\n",
        "class Car(Vehicle):\n",
        "    def __init__(self, vehicle_type, brand):\n",
        "        super().__init__(vehicle_type)\n",
        "        self.brand = brand\n",
        "\n",
        "    def display_brand(self):\n",
        "        print(f\"Car Brand: {self.brand}\")\n",
        "\n",
        "class ElectricCar(Car):\n",
        "    def __init__(self, vehicle_type, brand, battery_capacity):\n",
        "        super().__init__(vehicle_type, brand)\n",
        "        self.battery_capacity = battery_capacity\n",
        "\n",
        "    def display_battery(self):\n",
        "        print(f\"Battery Capacity: {self.battery_capacity} kWh\")\n",
        "\n",
        "electric_car = ElectricCar(\"Electric\", \"Tesla\", 100)\n",
        "\n",
        "electric_car.display_type()\n",
        "electric_car.display_brand()\n",
        "electric_car.display_battery()"
      ],
      "metadata": {
        "colab": {
          "base_uri": "https://localhost:8080/"
        },
        "id": "CXYeA5hzHDJh",
        "outputId": "c5635e9e-b599-4b61-cc16-460c156a2369"
      },
      "execution_count": 5,
      "outputs": [
        {
          "output_type": "stream",
          "name": "stdout",
          "text": [
            "Vehicle Type: Electric\n",
            "Car Brand: Tesla\n",
            "Battery Capacity: 100 kWh\n"
          ]
        }
      ]
    },
    {
      "cell_type": "markdown",
      "source": [
        "### Explanation:\n",
        "- **Base class `Vehicle`**: It has an attribute `vehicle_type` and a method `display_type()` to print the vehicle type.\n",
        "- **Derived class `Car`**: Inherits from `Vehicle` and adds a `brand` attribute. The constructor uses `super()` to call the `Vehicle` constructor.\n",
        "- **Further derived class `ElectricCar`**: Inherits from `Car` and adds a `battery_capacity` attribute. It also uses `super()` to call the constructors of both `Car` and `Vehicle`.\n"
      ],
      "metadata": {
        "id": "rkqwIwokHXbS"
      }
    },
    {
      "cell_type": "markdown",
      "source": [
        " 4.Demonstrate polymorphism by creating a base class Bird with a method fly(). Create two derived classes\n",
        "Sparrow and Penguin that override the fly() method."
      ],
      "metadata": {
        "id": "h9Qfuoc_HidM"
      }
    },
    {
      "cell_type": "code",
      "source": [
        "# Base class\n",
        "class Bird:\n",
        "    def fly(self):\n",
        "        print(\"This bird can fly.\")\n",
        "\n",
        "# Derived class Sparrow\n",
        "class Sparrow(Bird):\n",
        "    def fly(self):\n",
        "        print(\"Sparrow flies high in the sky.\")\n",
        "\n",
        "# Derived class Penguin\n",
        "class Penguin(Bird):\n",
        "    def fly(self):\n",
        "        print(\"Penguins can't fly.\")\n",
        "\n",
        "# Create instances of both classes\n",
        "sparrow = Sparrow()\n",
        "penguin = Penguin()\n",
        "\n",
        "# Demonstrate polymorphism\n",
        "sparrow.fly()\n",
        "penguin.fly()"
      ],
      "metadata": {
        "colab": {
          "base_uri": "https://localhost:8080/"
        },
        "id": "3MgREDKYIV88",
        "outputId": "c6439d13-647f-4446-8001-4cffbce83e09"
      },
      "execution_count": 6,
      "outputs": [
        {
          "output_type": "stream",
          "name": "stdout",
          "text": [
            "Sparrow flies high in the sky.\n",
            "Penguins can't fly.\n"
          ]
        }
      ]
    },
    {
      "cell_type": "markdown",
      "source": [
        "### Explanation:\n",
        "- **Base class `Bird`**: It defines a method `fly()` that prints a generic message indicating that the bird can fly.\n",
        "- **Derived class `Sparrow`**: It overrides the `fly()` method to print a message specific to sparrows, indicating that they can fly high.\n",
        "- **Derived class `Penguin`**: It overrides the `fly()` method to print a message indicating that penguins cannot fly."
      ],
      "metadata": {
        "id": "0935ogGGIDtI"
      }
    },
    {
      "cell_type": "markdown",
      "source": [
        "5.Write a program to demonstrate encapsulation by creating a class BankAccount with private attributes\n",
        "balance and methods to deposit, withdraw, and check balance"
      ],
      "metadata": {
        "id": "uPkbjpg-InGV"
      }
    },
    {
      "cell_type": "code",
      "source": [
        "class BankAccount:\n",
        "    def __init__(self, owner, balance=0):\n",
        "        self.owner = owner\n",
        "        self.__balance = balance  # Private attribute\n",
        "\n",
        "    # Deposit method\n",
        "    def deposit(self, amount):\n",
        "        if amount > 0:\n",
        "            self.__balance += amount\n",
        "            print(f\"Deposited {amount}. New balance is {self.__balance}.\")\n",
        "        else:\n",
        "            print(\"Deposit amount must be positive.\")\n",
        "\n",
        "    # Withdraw method\n",
        "    def withdraw(self, amount):\n",
        "        if amount <= self.__balance and amount > 0:\n",
        "            self.__balance -= amount\n",
        "            print(f\"Withdrew {amount}. New balance is {self.__balance}.\")\n",
        "        else:\n",
        "            print(\"Invalid withdrawal amount or insufficient funds.\")\n",
        "\n",
        "    # Check balance method\n",
        "    def check_balance(self):\n",
        "        return f\"Current balance: {self.__balance}\"\n",
        "\n",
        "# Create an instance of BankAccount\n",
        "account = BankAccount(\"John\", 1000)\n",
        "\n",
        "account.deposit(500)\n",
        "\n",
        "account.withdraw(300)\n",
        "\n",
        "print(account.check_balance())\n"
      ],
      "metadata": {
        "colab": {
          "base_uri": "https://localhost:8080/"
        },
        "id": "j8D1RrNzIsxG",
        "outputId": "5f2e9223-dfea-4dad-c9d9-9bac042fce34"
      },
      "execution_count": 7,
      "outputs": [
        {
          "output_type": "stream",
          "name": "stdout",
          "text": [
            "Deposited 500. New balance is 1500.\n",
            "Withdrew 300. New balance is 1200.\n",
            "Current balance: 1200\n"
          ]
        }
      ]
    },
    {
      "cell_type": "markdown",
      "source": [
        "Explanation:\n",
        "\n",
        "-Private attribute __balance: The __balance attribute is a private variable (denoted by the double underscore __), meaning it cannot be directly accessed from outside the class. This is an example of encapsulation where the internal data (balance) is hidden and can only be accessed or modified through class methods."
      ],
      "metadata": {
        "id": "CJmvYXM5I0mP"
      }
    },
    {
      "cell_type": "markdown",
      "source": [
        "6.Demonstrate runtime polymorphism using a method play() in a base class Instrument. Derive classes Guitar\n",
        "and Piano that implement their own version of play()"
      ],
      "metadata": {
        "id": "mtFejfNBI8LI"
      }
    },
    {
      "cell_type": "code",
      "source": [
        "# Base class\n",
        "class Instrument:\n",
        "    def play(self):\n",
        "        print(\"Playing an instrument\")\n",
        "\n",
        "# Derived class Guitar\n",
        "class Guitar(Instrument):\n",
        "    def play(self):\n",
        "        print(\"Strumming the guitar\")\n",
        "\n",
        "# Derived class Piano\n",
        "class Piano(Instrument):\n",
        "    def play(self):\n",
        "        print(\"Playing the piano keys\")\n",
        "\n",
        "# Creating instances of Guitar and Piano\n",
        "guitar = Guitar()\n",
        "piano = Piano()\n",
        "\n",
        "# Demonstrate runtime polymorphism\n",
        "instruments = [guitar, piano]\n",
        "\n",
        "for instrument in instruments:\n",
        "    instrument.play()"
      ],
      "metadata": {
        "colab": {
          "base_uri": "https://localhost:8080/"
        },
        "id": "rxIikFBIJHZT",
        "outputId": "a6cd0a3c-b7ef-4674-897f-5093e7e74612"
      },
      "execution_count": 8,
      "outputs": [
        {
          "output_type": "stream",
          "name": "stdout",
          "text": [
            "Strumming the guitar\n",
            "Playing the piano keys\n"
          ]
        }
      ]
    },
    {
      "cell_type": "markdown",
      "source": [
        "### Explanation:\n",
        "- **Base class `Instrument`**: Defines a method `play()` that provides a generic message indicating that an instrument is being played.\n",
        "- **Derived class `Guitar`**: Overrides the `play()` method to provide its own implementation, indicating that a guitar is being strummed.\n",
        "- **Derived class `Piano`**: Overrides the `play()` method to provide its own implementation, indicating that a piano is being played."
      ],
      "metadata": {
        "id": "zyQsVUhAJOvs"
      }
    },
    {
      "cell_type": "markdown",
      "source": [
        " 7.Create a class MathOperations with a class method add_numbers() to add two numbers and a static\n",
        "method subtract_numbers() to subtract two numbers"
      ],
      "metadata": {
        "id": "nco687UYJadW"
      }
    },
    {
      "cell_type": "code",
      "source": [
        "class MathOperations:\n",
        "    # Class method to add two numbers\n",
        "    @classmethod\n",
        "    def add_numbers(cls, num1, num2):\n",
        "        return num1 + num2\n",
        "\n",
        "    # Static method to subtract two numbers\n",
        "    @staticmethod\n",
        "    def subtract_numbers(num1, num2):\n",
        "        return num1 - num2\n",
        "\n",
        "# Using the class method to add numbers\n",
        "sum_result = MathOperations.add_numbers(10, 5)\n",
        "print(f\"Sum: {sum_result}\")  # Output: Sum: 15\n",
        "\n",
        "# Using the static method to subtract numbers\n",
        "difference_result = MathOperations.subtract_numbers(10, 5)\n",
        "print(f\"Difference: {difference_result}\")"
      ],
      "metadata": {
        "colab": {
          "base_uri": "https://localhost:8080/"
        },
        "id": "39bkkua7Jihv",
        "outputId": "0662f55d-7cec-466e-ecd4-9b9a5eff9a24"
      },
      "execution_count": 9,
      "outputs": [
        {
          "output_type": "stream",
          "name": "stdout",
          "text": [
            "Sum: 15\n",
            "Difference: 5\n"
          ]
        }
      ]
    },
    {
      "cell_type": "markdown",
      "source": [
        "### Explanation:\n",
        "- **Class method `add_numbers()`**: This method is defined with the `@classmethod` decorator and takes the class (`cls`) as its first parameter. It can be called using the class name or an instance of the class. It performs addition on two numbers.\n",
        "- **Static method `subtract_numbers()`**: This method is defined with the `@staticmethod` decorator. It doesn’t take any reference to the class or instance (`cls` or `self`) as its first argument. It performs subtraction on two numbers.\n"
      ],
      "metadata": {
        "id": "psa0abiiJlYn"
      }
    },
    {
      "cell_type": "markdown",
      "source": [
        " 8.Implement a class Person with a class method to count the total number of persons created."
      ],
      "metadata": {
        "id": "S8wRkbU1J1rR"
      }
    },
    {
      "cell_type": "code",
      "source": [
        "class Person:\n",
        "    # Class attribute to keep track of the number of persons created\n",
        "    total_persons = 0\n",
        "\n",
        "    def __init__(self, name, age):\n",
        "        self.name = name\n",
        "        self.age = age\n",
        "        # Increment the total_persons class attribute each time a new person is created\n",
        "        Person.total_persons += 1\n",
        "\n",
        "    # Class method to get the total number of persons created\n",
        "    @classmethod\n",
        "    def count_persons(cls):\n",
        "        return cls.total_persons\n",
        "\n",
        "# Creating instances of Person\n",
        "person1 = Person(\"Alice\", 30)\n",
        "person2 = Person(\"Bob\", 25)\n",
        "person3 = Person(\"Charlie\", 35)\n",
        "\n",
        "# Get the total number of persons created\n",
        "print(f\"Total persons created: {Person.count_persons()}\")"
      ],
      "metadata": {
        "colab": {
          "base_uri": "https://localhost:8080/"
        },
        "id": "RavEXjiJJ4Cq",
        "outputId": "5ff3f2e2-6446-4a64-bb5a-269400c838c7"
      },
      "execution_count": 10,
      "outputs": [
        {
          "output_type": "stream",
          "name": "stdout",
          "text": [
            "Total persons created: 3\n"
          ]
        }
      ]
    },
    {
      "cell_type": "markdown",
      "source": [
        "### Explanation:\n",
        "- **Class attribute `total_persons`**: This attribute keeps track of the total number of `Person` instances created. It is shared by all instances of the class.\n",
        "- **`__init__` method**: Each time a new `Person` object is created, the `total_persons` is incremented.\n",
        "- **Class method `count_persons()`**: This method is defined with the `@classmethod` decorator and returns the value of `total_persons`. It is used to get the total count of `Person` instances."
      ],
      "metadata": {
        "id": "bJWtEJGTKBVW"
      }
    },
    {
      "cell_type": "markdown",
      "source": [
        " 9.Write a class Fraction with attributes numerator and denominator. Override the str method to display the\n",
        "fraction as \"numerator/denominator\""
      ],
      "metadata": {
        "id": "fmNBIlExKNWF"
      }
    },
    {
      "cell_type": "code",
      "source": [
        "class Fraction:\n",
        "    def __init__(self, numerator, denominator):\n",
        "        self.numerator = numerator\n",
        "        self.denominator = denominator\n",
        "\n",
        "    # Override __str__ method to display the fraction\n",
        "    def __str__(self):\n",
        "        return f\"{self.numerator}/{self.denominator}\"\n",
        "\n",
        "# Create an instance of Fraction\n",
        "fraction = Fraction(3, 4)\n",
        "\n",
        "# Display the fraction\n",
        "print(fraction)"
      ],
      "metadata": {
        "colab": {
          "base_uri": "https://localhost:8080/"
        },
        "id": "k1ulRpH_KQst",
        "outputId": "89642412-9dd0-429e-b0cf-15475a591ba4"
      },
      "execution_count": 11,
      "outputs": [
        {
          "output_type": "stream",
          "name": "stdout",
          "text": [
            "3/4\n"
          ]
        }
      ]
    },
    {
      "cell_type": "markdown",
      "source": [
        "### Explanation:\n",
        "- **`__init__` method**: The constructor initializes the `numerator` and `denominator` attributes.\n",
        "- **`__str__` method**: This method is overridden to define how the object should be represented as a string. It returns the fraction in the format `\"numerator/denominator\"`."
      ],
      "metadata": {
        "id": "ZsaOOgqKKZMA"
      }
    },
    {
      "cell_type": "markdown",
      "source": [
        " 10.Demonstrate operator overloading by creating a class Vector and overriding the add method to add two\n",
        "vectors."
      ],
      "metadata": {
        "id": "AD4EgnLaKfFo"
      }
    },
    {
      "cell_type": "code",
      "source": [
        "class Vector:\n",
        "    def __init__(self, x, y):\n",
        "        self.x = x\n",
        "        self.y = y\n",
        "\n",
        "    # Overload the + operator to add two vectors\n",
        "    def __add__(self, other):\n",
        "        if isinstance(other, Vector):\n",
        "            return Vector(self.x + other.x, self.y + other.y)\n",
        "        return NotImplemented\n",
        "\n",
        "    # String representation for easier display\n",
        "    def __str__(self):\n",
        "        return f\"({self.x}, {self.y})\"\n",
        "\n",
        "# Create two Vector instances\n",
        "vector1 = Vector(1, 2)\n",
        "vector2 = Vector(3, 4)\n",
        "\n",
        "# Add the vectors using the overloaded + operator\n",
        "result = vector1 + vector2\n",
        "\n",
        "# Display the result\n",
        "print(f\"Result of addition: {result}\")"
      ],
      "metadata": {
        "colab": {
          "base_uri": "https://localhost:8080/"
        },
        "id": "aQlBsu9jKl_A",
        "outputId": "c31996b9-9512-4d37-900c-1cb2c423b606"
      },
      "execution_count": 12,
      "outputs": [
        {
          "output_type": "stream",
          "name": "stdout",
          "text": [
            "Result of addition: (4, 6)\n"
          ]
        }
      ]
    },
    {
      "cell_type": "markdown",
      "source": [
        "### Explanation:\n",
        "- **`__init__` method**: The constructor initializes the `x` and `y` components of the vector.\n",
        "- **`__add__` method**: This is the method that overloads the `+` operator. It adds the `x` and `y` components of the two vectors and returns a new `Vector` object with the result.\n",
        "- **`__str__` method**: This method is overridden to provide a nice string representation of the vector, which makes it easier to print the vector in a readable format."
      ],
      "metadata": {
        "id": "eCcrJfBRKq6J"
      }
    },
    {
      "cell_type": "markdown",
      "source": [
        " 11. Create a class Person with attributes name and age. Add a method greet() that prints \"Hello, my name is\n",
        "{name} and I am {age} years old."
      ],
      "metadata": {
        "id": "daAPdz11K1Bb"
      }
    },
    {
      "cell_type": "code",
      "source": [
        "class Person:\n",
        "    def __init__(self, name, age):\n",
        "        self.name = name\n",
        "        self.age = age\n",
        "\n",
        "    # Method to greet and introduce the person\n",
        "    def greet(self):\n",
        "        print(f\"Hello, my name is {self.name} and I am {self.age} years old.\")\n",
        "\n",
        "# Creating an instance of the Person class\n",
        "person = Person(\"Alice\", 30)\n",
        "\n",
        "# Calling the greet method\n",
        "person.greet()"
      ],
      "metadata": {
        "colab": {
          "base_uri": "https://localhost:8080/"
        },
        "id": "1UAEC3EDK3ac",
        "outputId": "f3aae8c8-91e4-4440-f53a-4d468fc2434e"
      },
      "execution_count": 13,
      "outputs": [
        {
          "output_type": "stream",
          "name": "stdout",
          "text": [
            "Hello, my name is Alice and I am 30 years old.\n"
          ]
        }
      ]
    },
    {
      "cell_type": "markdown",
      "source": [
        "### Explanation:\n",
        "- **`__init__` method**: This constructor initializes the `name` and `age` attributes for each `Person` instance.\n",
        "- **`greet()` method**: This method prints a message with the `name` and `age` of the person using an f-string for formatting.\n"
      ],
      "metadata": {
        "id": "PoYfXQU7K9Pl"
      }
    },
    {
      "cell_type": "markdown",
      "source": [
        " 12.Implement a class Student with attributes name and grades. Create a method average_grade() to compute\n",
        "the average of the grades."
      ],
      "metadata": {
        "id": "XWU3TfIuLK0m"
      }
    },
    {
      "cell_type": "code",
      "source": [
        "class Student:\n",
        "    def __init__(self, name, grades):\n",
        "        self.name = name\n",
        "        self.grades = grades  # A list of grades\n",
        "\n",
        "    # Method to compute the average grade\n",
        "    def average_grade(self):\n",
        "        if len(self.grades) > 0:\n",
        "            return sum(self.grades) / len(self.grades)\n",
        "        else:\n",
        "            return 0  # If no grades are provided, return 0\n",
        "\n",
        "# Creating an instance of Student\n",
        "student = Student(\"Alice\", [85, 90, 78, 92, 88])\n",
        "\n",
        "# Calling the method to calculate the average grade\n",
        "avg = student.average_grade()\n",
        "\n",
        "print(f\"{student.name}'s average grade is: {avg}\")"
      ],
      "metadata": {
        "colab": {
          "base_uri": "https://localhost:8080/"
        },
        "id": "YVdNd2TALO2_",
        "outputId": "a2822f0e-c5a6-4fb1-df76-03d15e63e727"
      },
      "execution_count": 14,
      "outputs": [
        {
          "output_type": "stream",
          "name": "stdout",
          "text": [
            "Alice's average grade is: 86.6\n"
          ]
        }
      ]
    },
    {
      "cell_type": "markdown",
      "source": [
        "### Explanation:\n",
        "- **`__init__` method**: This constructor initializes the `name` and `grades` attributes. `grades` is expected to be a list of numerical values (e.g., test scores).\n",
        "- **`average_grade()` method**: This method computes the average of the grades by summing the elements of the `grades` list and dividing by the number of grades. If no grades are provided, it returns `0`.\n"
      ],
      "metadata": {
        "id": "DRRgzV1dLSFP"
      }
    },
    {
      "cell_type": "markdown",
      "source": [
        " 13.Create a class Rectangle with methods set_dimensions() to set the dimensions and area() to calculate the\n",
        "area."
      ],
      "metadata": {
        "id": "c3bDazWILcCY"
      }
    },
    {
      "cell_type": "code",
      "source": [
        "class Rectangle:\n",
        "    def __init__(self):\n",
        "        self.length = 0\n",
        "        self.width = 0\n",
        "\n",
        "    # Method to set the dimensions of the rectangle\n",
        "    def set_dimensions(self, length, width):\n",
        "        self.length = length\n",
        "        self.width = width\n",
        "\n",
        "    # Method to calculate the area of the rectangle\n",
        "    def area(self):\n",
        "        return self.length * self.width\n",
        "\n",
        "# Creating an instance of Rectangle\n",
        "rectangle = Rectangle()\n",
        "\n",
        "# Setting the dimensions\n",
        "rectangle.set_dimensions(5, 3)\n",
        "\n",
        "# Calculating the area\n",
        "area = rectangle.area()\n",
        "\n",
        "print(f\"The area of the rectangle is: {area}\")"
      ],
      "metadata": {
        "colab": {
          "base_uri": "https://localhost:8080/"
        },
        "id": "MIxH08RLLdqW",
        "outputId": "099d3250-ef2c-4d16-f67b-1c6ca3a409d3"
      },
      "execution_count": 15,
      "outputs": [
        {
          "output_type": "stream",
          "name": "stdout",
          "text": [
            "The area of the rectangle is: 15\n"
          ]
        }
      ]
    },
    {
      "cell_type": "markdown",
      "source": [
        "\n",
        "### Explanation:\n",
        "- **`__init__` method**: Initializes the `length` and `width` attributes of the `Rectangle` class to `0` by default.\n",
        "- **`set_dimensions()` method**: This method allows setting the values for `length` and `width`.\n",
        "- **`area()` method**: This method calculates the area of the rectangle by multiplying `length` and `width`."
      ],
      "metadata": {
        "id": "3bsB0sfaLkw7"
      }
    },
    {
      "cell_type": "markdown",
      "source": [
        " 14.Create a class Employee with a method calculate_salary() that computes the salary based on hours worked\n",
        "and hourly rate. Create a derived class Manager that adds a bonus to the salary."
      ],
      "metadata": {
        "id": "i2JrKM49LqOj"
      }
    },
    {
      "cell_type": "code",
      "source": [
        "# Base class\n",
        "class Employee:\n",
        "    def __init__(self, hours_worked, hourly_rate):\n",
        "        self.hours_worked = hours_worked\n",
        "        self.hourly_rate = hourly_rate\n",
        "\n",
        "    # Method to calculate salary\n",
        "    def calculate_salary(self):\n",
        "        return self.hours_worked * self.hourly_rate\n",
        "\n",
        "# Derived class\n",
        "class Manager(Employee):\n",
        "    def __init__(self, hours_worked, hourly_rate, bonus):\n",
        "        super().__init__(hours_worked, hourly_rate)\n",
        "        self.bonus = bonus\n",
        "\n",
        "    # Override calculate_salary to include bonus\n",
        "    def calculate_salary(self):\n",
        "        base_salary = super().calculate_salary()\n",
        "        return base_salary + self.bonus\n",
        "\n",
        "# Creating an instance of Employee\n",
        "emp = Employee(40, 20)\n",
        "print(f\"Employee Salary: {emp.calculate_salary()}\")\n",
        "\n",
        "# Creating an instance of Manager\n",
        "mgr = Manager(40, 30, 500)\n",
        "print(f\"Manager Salary: {mgr.calculate_salary()}\")"
      ],
      "metadata": {
        "colab": {
          "base_uri": "https://localhost:8080/"
        },
        "id": "DByrO1j5L1j9",
        "outputId": "34c7475e-a7f0-4295-e7b4-0e386e1496ac"
      },
      "execution_count": 16,
      "outputs": [
        {
          "output_type": "stream",
          "name": "stdout",
          "text": [
            "Employee Salary: 800\n",
            "Manager Salary: 1700\n"
          ]
        }
      ]
    },
    {
      "cell_type": "markdown",
      "source": [
        "### Explanation:\n",
        "- **`Employee` class**: Has attributes for `hours_worked` and `hourly_rate`, and a method `calculate_salary()` to compute basic salary.\n",
        "- **`Manager` class**: Inherits from `Employee` and adds a `bonus`. It overrides `calculate_salary()` to include the bonus.\n"
      ],
      "metadata": {
        "id": "aFezSANQL3kF"
      }
    },
    {
      "cell_type": "markdown",
      "source": [
        "15.Create a class Product with attributes name, price, and quantity. Implement a method total_price() that\n",
        "calculates the total price of the product."
      ],
      "metadata": {
        "id": "0kBw4hCAMDjZ"
      }
    },
    {
      "cell_type": "code",
      "source": [
        "class Product:\n",
        "    def __init__(self, name, price, quantity):\n",
        "        self.name = name\n",
        "        self.price = price\n",
        "        self.quantity = quantity\n",
        "\n",
        "    # Method to calculate total price\n",
        "    def total_price(self):\n",
        "        return self.price * self.quantity\n",
        "\n",
        "# Creating an instance of Product\n",
        "product = Product(\"Laptop\", 50000, 2)\n",
        "\n",
        "# Calculating and printing the total price\n",
        "print(f\"Total price of {product.name}s: ₹{product.total_price()}\")"
      ],
      "metadata": {
        "colab": {
          "base_uri": "https://localhost:8080/"
        },
        "id": "gjTWaAePMFJo",
        "outputId": "fcd3298e-8eea-4429-bdae-10a8727f4e87"
      },
      "execution_count": 17,
      "outputs": [
        {
          "output_type": "stream",
          "name": "stdout",
          "text": [
            "Total price of Laptops: ₹100000\n"
          ]
        }
      ]
    },
    {
      "cell_type": "markdown",
      "source": [
        "### Explanation:\n",
        "- **`__init__` method**: Initializes the product's name, price per unit, and quantity.\n",
        "- **`total_price()` method**: Multiplies price and quantity to compute the total cost."
      ],
      "metadata": {
        "id": "9Pd0dstlMKIw"
      }
    },
    {
      "cell_type": "markdown",
      "source": [
        " 16.Create a class Animal with an abstract method sound(). Create two derived classes Cow and Sheep that\n",
        "implement the sound() method."
      ],
      "metadata": {
        "id": "8faanVhuMUEp"
      }
    },
    {
      "cell_type": "code",
      "source": [
        "from abc import ABC, abstractmethod\n",
        "\n",
        "# Abstract base class\n",
        "class Animal(ABC):\n",
        "    @abstractmethod\n",
        "    def sound(self):\n",
        "        pass\n",
        "\n",
        "# Derived class Cow\n",
        "class Cow(Animal):\n",
        "    def sound(self):\n",
        "        return \"Moo\"\n",
        "\n",
        "# Derived class Sheep\n",
        "class Sheep(Animal):\n",
        "    def sound(self):\n",
        "        return \"Baa\"\n",
        "\n",
        "# Creating instances\n",
        "cow = Cow()\n",
        "sheep = Sheep()\n",
        "\n",
        "# Calling the sound method\n",
        "print(f\"Cow says: {cow.sound()}\")\n",
        "print(f\"Sheep says: {sheep.sound()}\")"
      ],
      "metadata": {
        "colab": {
          "base_uri": "https://localhost:8080/"
        },
        "id": "6Bvo2SB-MWGr",
        "outputId": "ce0b20c9-592c-4113-990e-a11d85e0c6bd"
      },
      "execution_count": 18,
      "outputs": [
        {
          "output_type": "stream",
          "name": "stdout",
          "text": [
            "Cow says: Moo\n",
            "Sheep says: Baa\n"
          ]
        }
      ]
    },
    {
      "cell_type": "markdown",
      "source": [
        "### Explanation:\n",
        "- `Animal` is an **abstract base class** using the `ABC` module.\n",
        "- The `sound()` method is marked as **abstract**, meaning it must be implemented in any subclass.\n",
        "- `Cow` and `Sheep` **inherit from Animal** and provide their own implementation of `sound()`."
      ],
      "metadata": {
        "id": "iSO-1EuJMbIK"
      }
    },
    {
      "cell_type": "markdown",
      "source": [
        " 17.Create a class Book with attributes title, author, and year_published. Add a method get_book_info() that\n",
        "returns a formatted string with the book's details."
      ],
      "metadata": {
        "id": "5JghYvuBMjbE"
      }
    },
    {
      "cell_type": "code",
      "source": [
        "class Book:\n",
        "    def __init__(self, title, author, year_published):\n",
        "        self.title = title\n",
        "        self.author = author\n",
        "        self.year_published = year_published\n",
        "\n",
        "    # Method to return formatted book information\n",
        "    def get_book_info(self):\n",
        "        return f\"'{self.title}' by {self.author} (Published in {self.year_published})\"\n",
        "\n",
        "# Creating an instance of Book\n",
        "book = Book(\"To Kill a Mockingbird\", \"Harper Lee\", 1960)\n",
        "\n",
        "# Getting book info\n",
        "print(book.get_book_info())"
      ],
      "metadata": {
        "colab": {
          "base_uri": "https://localhost:8080/"
        },
        "id": "VJPeTekBMpgX",
        "outputId": "2c17e4d0-165a-496f-c72f-716c412076fd"
      },
      "execution_count": 19,
      "outputs": [
        {
          "output_type": "stream",
          "name": "stdout",
          "text": [
            "'To Kill a Mockingbird' by Harper Lee (Published in 1960)\n"
          ]
        }
      ]
    },
    {
      "cell_type": "markdown",
      "source": [
        "### Explanation:\n",
        "- **Attributes**: `title`, `author`, and `year_published` are set in the constructor.\n",
        "- **`get_book_info()`**: Returns a nicely formatted string with all book details.\n"
      ],
      "metadata": {
        "id": "ld6ZJaKaMrkG"
      }
    },
    {
      "cell_type": "markdown",
      "source": [
        " 18.Create a class House with attributes address and price. Create a derived class Mansion that adds an\n",
        "attribute number_of_rooms"
      ],
      "metadata": {
        "id": "PgorVp-yM5BI"
      }
    },
    {
      "cell_type": "code",
      "source": [
        "# Base class\n",
        "class House:\n",
        "    def __init__(self, address, price):\n",
        "        self.address = address\n",
        "        self.price = price\n",
        "\n",
        "# Derived class\n",
        "class Mansion(House):\n",
        "    def __init__(self, address, price, number_of_rooms):\n",
        "        super().__init__(address, price)\n",
        "        self.number_of_rooms = number_of_rooms\n",
        "\n",
        "    # Method to display mansion details\n",
        "    def display_info(self):\n",
        "        return f\"Address: {self.address}, Price: ₹{self.price}, Rooms: {self.number_of_rooms}\"\n",
        "\n",
        "# Creating an instance of Mansion\n",
        "mansion = Mansion(\"123 Luxury Lane\", 50000000, 10)\n",
        "\n",
        "# Displaying mansion information\n",
        "print(mansion.display_info())\n"
      ],
      "metadata": {
        "colab": {
          "base_uri": "https://localhost:8080/"
        },
        "id": "O-Ek8NVYM6iH",
        "outputId": "6b2f9a49-a326-4ca7-a3c5-4687efcf0d5a"
      },
      "execution_count": 20,
      "outputs": [
        {
          "output_type": "stream",
          "name": "stdout",
          "text": [
            "Address: 123 Luxury Lane, Price: ₹50000000, Rooms: 10\n"
          ]
        }
      ]
    },
    {
      "cell_type": "markdown",
      "source": [
        "### Explanation:\n",
        "- `House` is the base class with common attributes.\n",
        "- `Mansion` inherits from `House` and adds a new attribute `number_of_rooms`.\n",
        "- `super()` is used to initialize the base class attributes."
      ],
      "metadata": {
        "id": "2my-X9lkM-k_"
      }
    }
  ]
}